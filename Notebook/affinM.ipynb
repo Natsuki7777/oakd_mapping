{
 "cells": [
  {
   "cell_type": "code",
   "execution_count": 216,
   "id": "672297ad",
   "metadata": {},
   "outputs": [
    {
     "data": {
      "text/plain": [
       "array([[ 0.75      , -0.4330127 ,  0.5       ,  1.5       ],\n",
       "       [ 0.64951905,  0.625     , -0.4330127 ,  1.29903811],\n",
       "       [-0.125     ,  0.64951905,  0.75      , -0.25      ],\n",
       "       [ 0.        ,  0.        ,  0.        ,  1.        ]])"
      ]
     },
     "execution_count": 216,
     "metadata": {},
     "output_type": "execute_result"
    }
   ],
   "source": [
    "import numpy as np\n",
    "import cv2\n",
    "import open3d as o3d\n",
    "import matplotlib.pyplot as plt\n",
    "import open3d as o3\n",
    "import math\n",
    "from sklearn.neighbors import NearestNeighbors\n",
    "\n",
    "\n",
    "\n",
    "def rx(r):\n",
    "    r = r/180*math.pi\n",
    "    m= np.array(\n",
    "    [\n",
    "        [1,0,0,0],\n",
    "        [0,math.cos(r),-math.sin(r),0],\n",
    "        [0,math.sin(r),math.cos(r),0],\n",
    "        [0,0,0,1]\n",
    "    ])\n",
    "    return m\n",
    "def ry(r):\n",
    "    r = r/180*math.pi\n",
    "    m= np.array(\n",
    "    [\n",
    "        [math.cos(r),0,math.sin(r),0],\n",
    "        [0,1,0,0],\n",
    "        [-math.sin(r),0,math.cos(r),0],\n",
    "        [0,0,0,1]\n",
    "    ])\n",
    "    return m\n",
    "def rz(r):\n",
    "    r = r/180*math.pi\n",
    "    m= np.array(\n",
    "    [\n",
    "        [math.cos(r),-math.sin(r),0,0],\n",
    "        [math.sin(r),math.cos(r),0,0],\n",
    "        [0,0,1,0],\n",
    "        [0,0,0,1]\n",
    "    ])\n",
    "    return m\n",
    "def tran(tx,ty,tz):\n",
    "    \n",
    "    m= np.array(\n",
    "    [\n",
    "        [1,0,0,tx],\n",
    "        [0,1,0,ty],\n",
    "        [0,0,1,tz],\n",
    "        [0,0,0,1]\n",
    "    ])\n",
    "    return m\n",
    "M = rx(30)@ry(30)@rz(30)@tran(2,0,0)\n",
    "M"
   ]
  },
  {
   "cell_type": "code",
   "execution_count": 165,
   "id": "4874fd35",
   "metadata": {},
   "outputs": [],
   "source": [
    "class match():\n",
    "    def __init__(self,i):\n",
    "        self.queryIdx = i\n",
    "        self.trainIdx = i\n",
    "        self.distance = 1\n",
    "\n",
    "good_match=[]\n",
    "for i in range(s.shape[0]):\n",
    "    good_match.append(match(i))"
   ]
  },
  {
   "cell_type": "code",
   "execution_count": 111,
   "id": "dbaaaf27",
   "metadata": {},
   "outputs": [
    {
     "name": "stdout",
     "output_type": "stream",
     "text": [
      "[[ 0.75       -0.4330127   0.5         1.5       ]\n",
      " [ 0.64951905  0.625      -0.4330127   1.29903811]\n",
      " [-0.125       0.64951905  0.75       -0.25      ]\n",
      " [ 0.          0.          0.          1.        ]]\n",
      "[[ 0.75       -0.4330127   0.5         1.5       ]\n",
      " [ 0.64951905  0.625      -0.4330127   1.29903811]\n",
      " [-0.125       0.64951905  0.75       -0.25      ]\n",
      " [ 0.          0.          0.          1.        ]]\n"
     ]
    }
   ],
   "source": [
    "def gause(x):\n",
    "    y=1/math.sqrt(2*math.pi)*np.exp(-((x/50)**2)/2)\n",
    "    return y\n",
    "def affinM(t1_positions,t2_positions,good_matches):\n",
    "    t1_3d_points=[]\n",
    "    t2_3d_points=[]\n",
    "    confidence = []\n",
    "    for match in good_matches:\n",
    "        t1_3d_points.append(t1_positions[match.queryIdx])\n",
    "        t2_3d_points.append(t2_positions[match.trainIdx])\n",
    "        c = gause(match.distance)\n",
    "        confidence.append([c,c,c])\n",
    "    t1_3d_points=np.array(t1_3d_points)\n",
    "    t2_3d_points=np.array(t2_3d_points)\n",
    "    confidence=np.array(confidence)\n",
    "    Y0 =np.sum(t1_3d_points*confidence,axis=0)/np.sum(confidence,axis=0)\n",
    "    X0 =np.sum(t2_3d_points*confidence,axis=0)/np.sum(confidence,axis=0)\n",
    "    H = (t1_3d_points-Y0).T@(t2_3d_points-X0)\n",
    "    U, s, V = np.linalg.svd(H, full_matrices=False)\n",
    "    \n",
    "    R=(V.T)@(U.T)\n",
    "    T=X0-R@Y0\n",
    "    M=np.array([\n",
    "        [R[0][0],R[0][1],R[0][2],T[0]],\n",
    "        [R[1][0],R[1][1],R[1][2],T[1]],\n",
    "        [R[2][0],R[2][1],R[2][2],T[2]],\n",
    "        [0,0,0,1]\n",
    "    ])\n",
    "\n",
    "    return M\n",
    "print(M)\n",
    "testM = affinM(s,g,good_match)\n",
    "print(testM)"
   ]
  },
  {
   "cell_type": "code",
   "execution_count": 703,
   "id": "5e29dc41",
   "metadata": {},
   "outputs": [],
   "source": [
    "def gause(x):\n",
    "    y=1/math.sqrt(2*math.pi)*np.exp(-((x/50)**2)/2)\n",
    "    return y\n",
    "def affinM(t1_positions,t2_positions,good_matches):\n",
    "    t1_3d_points=[]\n",
    "    t2_3d_points=[]\n",
    "    confidence = []\n",
    "    for match in good_matches:\n",
    "        t1_3d_points.append(t1_positions[match.queryIdx])\n",
    "        t2_3d_points.append(t2_positions[match.trainIdx])\n",
    "    t1_3d_points=np.array(t1_3d_points)\n",
    "    t2_3d_points=np.array(t2_3d_points)\n",
    "    Y0 =np.mean(t1_3d_points,axis=0)\n",
    "    X0 =np.mean(t2_3d_points,axis=0)\n",
    "    H = (t1_3d_points-Y0).T@(t2_3d_points-X0)\n",
    "    U, s, V = np.linalg.svd(H, full_matrices=False)\n",
    "    \n",
    "    R=U@V\n",
    "    T=Y0-R@X0\n",
    "    M=np.array([\n",
    "        [R[0][0],R[0][1],R[0][2],T[0]],\n",
    "        [R[1][0],R[1][1],R[1][2],T[1]],\n",
    "        [R[2][0],R[2][1],R[2][2],T[2]],\n",
    "        [0,0,0,1]\n",
    "    ])\n",
    "\n",
    "    return M"
   ]
  },
  {
   "cell_type": "code",
   "execution_count": 789,
   "id": "15272d45",
   "metadata": {},
   "outputs": [],
   "source": [
    "def fit_affinM(positions,M):\n",
    "    homo_points=np.concatenate([positions,np.ones((positions.shape[0],1))],1).T\n",
    "    newp=(M@homo_points).T[:,:-1]\n",
    "    return newp\n",
    "s = np.array([[0,0,0],[1,0,0]])\n",
    "sc = np.tile([0,0,1],[s.shape[0],1])\n",
    "g = fit_affinM(s,M)\n",
    "gc = np.tile([0,1,0],[g.shape[0],1])"
   ]
  },
  {
   "cell_type": "code",
   "execution_count": 167,
   "id": "b23ce8e8",
   "metadata": {},
   "outputs": [],
   "source": [
    "test = fit_affinM(g,testM)\n",
    "testc = np.tile([1,0,0],[g.shape[0],1])"
   ]
  },
  {
   "cell_type": "code",
   "execution_count": 169,
   "id": "92eae82b",
   "metadata": {
    "scrolled": true
   },
   "outputs": [],
   "source": [
    "pcd = o3d.geometry.PointCloud()\n",
    "pcd.points = o3d.utility.Vector3dVector(s)\n",
    "pcd.colors = o3d.utility.Vector3dVector(sc)\n",
    "pcd2 = o3d.geometry.PointCloud()\n",
    "pcd2.points = o3d.utility.Vector3dVector(g)\n",
    "pcd2.colors = o3d.utility.Vector3dVector(gc)\n",
    "pcd3 = o3d.geometry.PointCloud()\n",
    "pcd3.points = o3d.utility.Vector3dVector(test)\n",
    "pcd3.colors = o3d.utility.Vector3dVector(testc)\n",
    "o3d.visualization.draw_geometries([pcd,pcd2,pcd3])"
   ]
  },
  {
   "cell_type": "code",
   "execution_count": 808,
   "id": "97c2c18a",
   "metadata": {},
   "outputs": [
    {
     "data": {
      "text/plain": [
       "['positions', 'right_descriptions', 'right_kp', 'right_frame']"
      ]
     },
     "execution_count": 808,
     "metadata": {},
     "output_type": "execute_result"
    }
   ],
   "source": [
    "t1=np.load(\"./frame/200/pos_des_kp_frame.npz\")\n",
    "t2=np.load(\"./frame/215/pos_des_kp_frame.npz\")\n",
    "\n",
    "t1.files"
   ]
  },
  {
   "cell_type": "code",
   "execution_count": 177,
   "id": "8dcb3774",
   "metadata": {},
   "outputs": [],
   "source": [
    "pos = t1[\"positions\"]\n",
    "aff_pos = fit_affinM(pos,M)\n",
    "good_match=[]\n",
    "for i in range(pos.shape[0]):\n",
    "    good_match.append(match(i))"
   ]
  },
  {
   "cell_type": "code",
   "execution_count": 187,
   "id": "7f28dd84",
   "metadata": {
    "scrolled": true
   },
   "outputs": [
    {
     "data": {
      "text/plain": [
       "array([[ 7.50000000e-01,  6.49519053e-01, -1.25000000e-01,\n",
       "        -2.00000000e+00],\n",
       "       [-4.33012702e-01,  6.25000000e-01,  6.49519053e-01,\n",
       "        -5.68434189e-14],\n",
       "       [ 5.00000000e-01, -4.33012702e-01,  7.50000000e-01,\n",
       "         1.17950094e-12],\n",
       "       [ 0.00000000e+00,  0.00000000e+00,  0.00000000e+00,\n",
       "         1.00000000e+00]])"
      ]
     },
     "execution_count": 187,
     "metadata": {},
     "output_type": "execute_result"
    }
   ],
   "source": [
    "small_M = affinM(pos[:4],aff_pos[:4],good_match[:4])\n",
    "small_M"
   ]
  },
  {
   "cell_type": "code",
   "execution_count": 190,
   "id": "fe7024ec",
   "metadata": {},
   "outputs": [
    {
     "data": {
      "text/plain": [
       "array([[ 7.50000000e-01,  6.49519053e-01, -1.25000000e-01,\n",
       "        -2.00000000e+00],\n",
       "       [-4.33012702e-01,  6.25000000e-01,  6.49519053e-01,\n",
       "        -1.70530257e-13],\n",
       "       [ 5.00000000e-01, -4.33012702e-01,  7.50000000e-01,\n",
       "        -1.70530257e-13],\n",
       "       [ 0.00000000e+00,  0.00000000e+00,  0.00000000e+00,\n",
       "         1.00000000e+00]])"
      ]
     },
     "execution_count": 190,
     "metadata": {},
     "output_type": "execute_result"
    }
   ],
   "source": [
    "pre_M = affinM(pos,aff_pos,good_match)\n",
    "pre_M"
   ]
  },
  {
   "cell_type": "code",
   "execution_count": 181,
   "id": "b090881b",
   "metadata": {
    "scrolled": true
   },
   "outputs": [
    {
     "data": {
      "text/plain": [
       "array([[-88.20661491, 109.7467282 , 123.55867257],\n",
       "       [-88.36861296, 101.12298732, 124.70296628],\n",
       "       [-87.54047146, 110.95705987, 123.77072794],\n",
       "       ...,\n",
       "       [-35.63788644,  58.3494868 , 136.71102087],\n",
       "       [-45.28952021,  29.58023817, 133.81431703],\n",
       "       [-39.49082921,  46.12223734, 133.83983607]])"
      ]
     },
     "execution_count": 181,
     "metadata": {},
     "output_type": "execute_result"
    }
   ],
   "source": [
    "pos"
   ]
  },
  {
   "cell_type": "code",
   "execution_count": 214,
   "id": "b4bf1ec5",
   "metadata": {
    "scrolled": true
   },
   "outputs": [
    {
     "data": {
      "text/plain": [
       "array([[-88.20661491, 109.7467282 , 123.55867257],\n",
       "       [-88.36861296, 101.12298732, 124.70296628],\n",
       "       [-87.54047146, 110.95705987, 123.77072794],\n",
       "       ...,\n",
       "       [-35.63788644,  58.3494868 , 136.71102087],\n",
       "       [-45.28952021,  29.58023817, 133.81431703],\n",
       "       [-39.49082921,  46.12223734, 133.83983607]])"
      ]
     },
     "execution_count": 214,
     "metadata": {},
     "output_type": "execute_result"
    }
   ],
   "source": [
    "pre_pos= fit_affinM(aff_pos,pre_M)\n",
    "pre_pos"
   ]
  },
  {
   "cell_type": "code",
   "execution_count": 459,
   "id": "f36c37c1",
   "metadata": {},
   "outputs": [
    {
     "data": {
      "text/plain": [
       "3"
      ]
     },
     "execution_count": 459,
     "metadata": {},
     "output_type": "execute_result"
    }
   ],
   "source": [
    "nbrs = NearestNeighbors(n_neighbors=1, algorithm='auto').fit(pos)\n",
    "distances, indices = nbrs.kneighbors(t2_pos)\n",
    "np.count_nonzero(distances < 1)"
   ]
  },
  {
   "cell_type": "code",
   "execution_count": 775,
   "id": "960e6dac",
   "metadata": {},
   "outputs": [],
   "source": [
    "t1_pos = t1[\"positions\"]\n",
    "t2_pos = t2[\"positions\"]"
   ]
  },
  {
   "cell_type": "code",
   "execution_count": 793,
   "id": "f1a11d48",
   "metadata": {},
   "outputs": [],
   "source": [
    "def match_by_frame(t1_descriptions,t2_descriptions):\n",
    "    bf = cv2.BFMatcher(crossCheck=True)\n",
    "    matches = bf.match(t1_descriptions,t2_descriptions)\n",
    "    good_matches = sorted(matches, key=lambda x: x.distance)\n",
    "    return good_matches"
   ]
  },
  {
   "cell_type": "code",
   "execution_count": 809,
   "id": "3795456c",
   "metadata": {
    "scrolled": true
   },
   "outputs": [
    {
     "name": "stdout",
     "output_type": "stream",
     "text": [
      "Wall time: 190 ms\n"
     ]
    },
    {
     "data": {
      "text/plain": [
       "(array([[  0.99717695,  -0.03175663,   0.06804157,   3.13225996],\n",
       "        [  0.0257041 ,   0.99578416,   0.08805228, -14.23193055],\n",
       "        [ -0.07055096,  -0.08605476,   0.99378928,  -7.82024152],\n",
       "        [  0.        ,   0.        ,   0.        ,   1.        ]]),\n",
       " 831)"
      ]
     },
     "execution_count": 809,
     "metadata": {},
     "output_type": "execute_result"
    }
   ],
   "source": [
    "%%time\n",
    "tryout = 30\n",
    "best_count = 0\n",
    "bestM = None\n",
    "bestDistances = None\n",
    "\n",
    "t1_pos = t1[\"positions\"]\n",
    "t2_pos = t2[\"positions\"]\n",
    "\n",
    "good_matches = match_by_frame(t1[\"right_descriptions\"],t2[\"right_descriptions\"])\n",
    "\n",
    "matched_t1 = np.asarray([t1_pos[match.queryIdx] for match in good_matches])\n",
    "matched_t2 = np.asarray([t2_pos[match.trainIdx] for match in good_matches])\n",
    "\n",
    "# nbrs = NearestNeighbors(n_neighbors=1, algorithm='auto').fit(matched_t1)\n",
    "# distances, indices = nbrs.kneighbors(pre_t2_pos)\n",
    "\n",
    "for i in range(tryout):\n",
    "    small_good_matches = np.random.choice(good_matches,5)\n",
    "    M = affinM(t1_pos,t2_pos,small_good_matches)\n",
    "    \n",
    "    pre_matched_t2 = fit_affinM(matched_t2,M)\n",
    "    \n",
    "    distances = np.linalg.norm(matched_t1-pre_matched_t2,axis=1)\n",
    "    new_count = np.count_nonzero(distances < 10)\n",
    "    \n",
    "    if new_count > best_count:\n",
    "        best_count = new_count\n",
    "        bestM = M\n",
    "        bestDistances = distances\n",
    "bestM,best_count"
   ]
  },
  {
   "cell_type": "code",
   "execution_count": 810,
   "id": "578337c0",
   "metadata": {
    "scrolled": false
   },
   "outputs": [],
   "source": [
    "best_matches = []\n",
    "for i in range(len(bestDistances)):\n",
    "    if bestDistances[i]<30:\n",
    "        best_matches.append(good_matches[i])\n",
    "pre_M = affinM(t1_pos,t2_pos,best_matches)"
   ]
  },
  {
   "cell_type": "code",
   "execution_count": 811,
   "id": "8c95a1be",
   "metadata": {},
   "outputs": [],
   "source": [
    "def checkM(t1_pos,t2_pos,newp):\n",
    "    cpcd = np.concatenate([t1_pos,t2_pos,newp])\n",
    "    g = np.tile([0,1,0],[t1_pos.shape[0],1])\n",
    "    b = np.tile([0,0,1],[t2_pos.shape[0],1])\n",
    "    r = np.tile([1,0,0],[newp.shape[0],1])\n",
    "    cpcdc =   np.concatenate([g,b,r])\n",
    "    checkpcd = o3d.geometry.PointCloud()\n",
    "    checkpcd.points = o3d.utility.Vector3dVector(cpcd)\n",
    "    checkpcd.colors = o3d.utility.Vector3dVector(cpcdc)\n",
    "    o3d.io.write_point_cloud(\"checkpcd.ply\", checkpcd )\n",
    "newp = fit_affinM(t2_pos,pre_M)\n",
    "checkM(t1_pos,t2_pos,newp)"
   ]
  },
  {
   "cell_type": "code",
   "execution_count": null,
   "id": "02d8eab7",
   "metadata": {},
   "outputs": [],
   "source": []
  },
  {
   "cell_type": "code",
   "execution_count": 760,
   "id": "a3a58d5c",
   "metadata": {},
   "outputs": [
    {
     "data": {
      "text/plain": [
       "array([ 5.24436426,  2.92540868,  1.55489484, ...,  4.50166217,\n",
       "       33.47167785,  8.67571253])"
      ]
     },
     "execution_count": 760,
     "metadata": {},
     "output_type": "execute_result"
    }
   ],
   "source": [
    "bestDistances"
   ]
  },
  {
   "cell_type": "code",
   "execution_count": null,
   "id": "5afac7fd",
   "metadata": {},
   "outputs": [],
   "source": []
  },
  {
   "cell_type": "code",
   "execution_count": 715,
   "id": "5b63f4b2",
   "metadata": {},
   "outputs": [
    {
     "data": {
      "text/plain": [
       "(array([<DMatch 000002480B879EF0>, <DMatch 000002480B1A2670>,\n",
       "        <DMatch 000002480B956A70>, <DMatch 000002480B8CE650>,\n",
       "        <DMatch 000002480B8794B0>], dtype=object),\n",
       " array([[ 0.99134941,  0.08727438,  0.09802822, -7.05295207],\n",
       "        [-0.07664947,  0.99126017, -0.10736915, 29.79106698],\n",
       "        [-0.10654204,  0.09892653,  0.98937472, 12.38245402],\n",
       "        [ 0.        ,  0.        ,  0.        ,  1.        ]]),\n",
       " array([  0.91598816,   0.50227872,  11.42639338, ...,  35.25445635,\n",
       "         96.96443714, 139.42836289]),\n",
       " 19)"
      ]
     },
     "execution_count": 715,
     "metadata": {},
     "output_type": "execute_result"
    }
   ],
   "source": [
    "small_good_matches = np.random.choice(good_matches,5)\n",
    "M = affinM(t1_pos,t2_pos,small_good_matches)\n",
    "\n",
    "pre_matched_t2 = fit_affinM(matched_t2,M)\n",
    "\n",
    "distances = np.linalg.norm(matched_t1-pre_matched_t2,axis=1)\n",
    "new_count = np.count_nonzero(distances < 1)\n",
    "small_good_matches,M,distances,new_count"
   ]
  },
  {
   "cell_type": "code",
   "execution_count": 550,
   "id": "472faac8",
   "metadata": {},
   "outputs": [
    {
     "data": {
      "text/plain": [
       "array([1.        , 2.23606798, 0.        ])"
      ]
     },
     "execution_count": 550,
     "metadata": {},
     "output_type": "execute_result"
    }
   ],
   "source": [
    "a = np.array([[2,2,3],[1,1,1],[1,2,3]])\n",
    "b = np.array([[1,2,3],[1,2,3],[1,2,3]])\n",
    "np.linalg.norm(a-b, axis=1)"
   ]
  },
  {
   "cell_type": "code",
   "execution_count": 812,
   "id": "f5b5ddbe",
   "metadata": {
    "scrolled": true
   },
   "outputs": [
    {
     "name": "stdout",
     "output_type": "stream",
     "text": [
      "すべてのサンプリングで\n",
      "外れ値が含まれない確率が\n",
      "0.99999\n",
      "となる\n",
      "イテレーション回数は\n",
      "28.99828846911848回\n",
      "\n"
     ]
    }
   ],
   "source": [
    "p = 0.99999 # 外れ値を含まない確率\n",
    "w = 0.8 # inlier/全サンプル数\n",
    "n = 5 # サンプリング数\n",
    "# iteration k\n",
    "# p = 1 - ( 1 - w ** n ) ** k\n",
    "k = math.log(1-p)/math.log(1-w**n)\n",
    "print(f\"すべてのサンプリングで\\n外れ値が含まれない確率が\\n{p}\\nとなる\\nイテレーション回数は\\n{k}回\\n\")\n"
   ]
  },
  {
   "cell_type": "code",
   "execution_count": 509,
   "id": "18ac2298",
   "metadata": {},
   "outputs": [
    {
     "data": {
      "text/plain": [
       "(array([[ 3.48390769],\n",
       "        [ 1.57811415],\n",
       "        [ 5.21113375],\n",
       "        ...,\n",
       "        [14.60011191],\n",
       "        [ 4.33384777],\n",
       "        [ 1.51313697]]),\n",
       " array([[  44],\n",
       "        [  51],\n",
       "        [2187],\n",
       "        ...,\n",
       "        [1131],\n",
       "        [1258],\n",
       "        [1952]], dtype=int64),\n",
       " array([[ 0.99177077,  0.07524319,  0.10358185, -7.28611784],\n",
       "        [-0.06106097,  0.98911685, -0.1338634 , 33.92877709],\n",
       "        [-0.11252686,  0.126437  ,  0.98557161, 12.38475841],\n",
       "        [ 0.        ,  0.        ,  0.        ,  1.        ]]),\n",
       " 2064)"
      ]
     },
     "execution_count": 509,
     "metadata": {},
     "output_type": "execute_result"
    }
   ],
   "source": [
    "bestDistances,bestIndices,bestM,best_count"
   ]
  },
  {
   "cell_type": "code",
   "execution_count": 519,
   "id": "61bbc89d",
   "metadata": {},
   "outputs": [
    {
     "data": {
      "text/plain": [
       "2.0"
      ]
     },
     "execution_count": 519,
     "metadata": {},
     "output_type": "execute_result"
    }
   ],
   "source": [
    "x = np.array([[1, 2,3],[1, 2,3],[1, 2,3]])\n",
    "y =  np.array([[3, 2,3],[1, 2,3],[1, 2,3]])\n",
    "np.linalg.norm(x-y)"
   ]
  }
 ],
 "metadata": {
  "kernelspec": {
   "display_name": "Python 3 (ipykernel)",
   "language": "python",
   "name": "python3"
  },
  "language_info": {
   "codemirror_mode": {
    "name": "ipython",
    "version": 3
   },
   "file_extension": ".py",
   "mimetype": "text/x-python",
   "name": "python",
   "nbconvert_exporter": "python",
   "pygments_lexer": "ipython3",
   "version": "3.7.7"
  }
 },
 "nbformat": 4,
 "nbformat_minor": 5
}
